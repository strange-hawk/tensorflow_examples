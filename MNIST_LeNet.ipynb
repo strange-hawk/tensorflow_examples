{
  "nbformat": 4,
  "nbformat_minor": 0,
  "metadata": {
    "colab": {
      "name": "MNIST_LeNet.ipynb",
      "provenance": [],
      "authorship_tag": "ABX9TyPzjo8o7SpVnnL8r+NtS1TF",
      "include_colab_link": true
    },
    "kernelspec": {
      "name": "python3",
      "display_name": "Python 3"
    }
  },
  "cells": [
    {
      "cell_type": "markdown",
      "metadata": {
        "id": "view-in-github",
        "colab_type": "text"
      },
      "source": [
        "<a href=\"https://colab.research.google.com/github/strange-hawk/tensorflow_examples/blob/main/MNIST_LeNet.ipynb\" target=\"_parent\"><img src=\"https://colab.research.google.com/assets/colab-badge.svg\" alt=\"Open In Colab\"/></a>"
      ]
    },
    {
      "cell_type": "code",
      "metadata": {
        "id": "62QbiRF-T7Ek"
      },
      "source": [
        "import tensorflow as tf\n",
        "import numpy as np\n",
        "from tensorflow import keras\n",
        "import matplotlib.pyplot as plt"
      ],
      "execution_count": null,
      "outputs": []
    },
    {
      "cell_type": "code",
      "metadata": {
        "id": "XgKgb4ZzVL5I"
      },
      "source": [
        "from tensorflow.keras import datasets, layers, models, optimizers"
      ],
      "execution_count": null,
      "outputs": []
    },
    {
      "cell_type": "code",
      "metadata": {
        "id": "hoX0uGyQVL2y"
      },
      "source": [
        "EPOCHS = 5\n",
        "BATCH_SIZE = 128\n",
        "VERBOSE = 1\n",
        "OPTIMIZER = optimizers.Adam()\n",
        "VALIDATION_SPLIT = 0.2"
      ],
      "execution_count": null,
      "outputs": []
    },
    {
      "cell_type": "code",
      "metadata": {
        "id": "MlIM8e4fVL1E"
      },
      "source": [
        "IMG_ROWS, IMG_COLS = 28, 28\n",
        "INPUT_SHAPE = (IMG_ROWS, IMG_COLS, 1)\n",
        "NB_CLASSES = 10"
      ],
      "execution_count": null,
      "outputs": []
    },
    {
      "cell_type": "code",
      "metadata": {
        "id": "kb1_QoyhVLye"
      },
      "source": [
        "def build(input_shape, classes):\n",
        "  model = models.Sequential()\n",
        "  model.add(layers.Convolution2D(20, (5,5), activation = 'relu', input_shape= input_shape))\n",
        "  model.add(layers.MaxPooling2D((2,2), strides=(2,2)))\n",
        "  model.add(layers.Convolution2D(50, (5,5), activation = 'relu'))\n",
        "  model.add(layers.MaxPooling2D((2,2), strides=(2,2)))\n",
        "  model.add(layers.Flatten())\n",
        "  model.add(layers.Dense(500, activation='relu'))\n",
        "  model.add(layers.Dense(10, activation='softmax'))\n",
        "  return model"
      ],
      "execution_count": null,
      "outputs": []
    },
    {
      "cell_type": "code",
      "metadata": {
        "id": "d6v3SOTUVLq3"
      },
      "source": [
        "(X_train, y_train), (X_test, y_test) = datasets.mnist.load_data()"
      ],
      "execution_count": null,
      "outputs": []
    },
    {
      "cell_type": "code",
      "metadata": {
        "id": "UAdyNnJ_VLoc"
      },
      "source": [
        "X_train = X_train.reshape((60000, 28, 28, 1)) \n",
        "X_test = X_test.reshape((10000, 28, 28, 1))"
      ],
      "execution_count": null,
      "outputs": []
    },
    {
      "cell_type": "code",
      "metadata": {
        "id": "sgFI9yqjVLmE"
      },
      "source": [
        "X_train = np.float32(X_train/255)\n",
        "X_test = np.float32(X_test/255)"
      ],
      "execution_count": null,
      "outputs": []
    },
    {
      "cell_type": "code",
      "metadata": {
        "id": "hi9S10-BVLhz"
      },
      "source": [
        "y_test = keras.utils.to_categorical(y_test, NB_CLASSES)\n",
        "y_train = keras.utils.to_categorical(y_train, NB_CLASSES)"
      ],
      "execution_count": null,
      "outputs": []
    },
    {
      "cell_type": "code",
      "metadata": {
        "colab": {
          "base_uri": "https://localhost:8080/"
        },
        "id": "58OmjpB3VLfi",
        "outputId": "39dacec4-50fc-4c4a-c126-7dfb28a13006"
      },
      "source": [
        "y_test"
      ],
      "execution_count": null,
      "outputs": [
        {
          "output_type": "execute_result",
          "data": {
            "text/plain": [
              "array([[0., 0., 0., ..., 1., 0., 0.],\n",
              "       [0., 0., 1., ..., 0., 0., 0.],\n",
              "       [0., 1., 0., ..., 0., 0., 0.],\n",
              "       ...,\n",
              "       [0., 0., 0., ..., 0., 0., 0.],\n",
              "       [0., 0., 0., ..., 0., 0., 0.],\n",
              "       [0., 0., 0., ..., 0., 0., 0.]], dtype=float32)"
            ]
          },
          "metadata": {
            "tags": []
          },
          "execution_count": 30
        }
      ]
    },
    {
      "cell_type": "code",
      "metadata": {
        "id": "tmDMJCw0VLZO"
      },
      "source": [
        "model = build(INPUT_SHAPE, NB_CLASSES)"
      ],
      "execution_count": null,
      "outputs": []
    },
    {
      "cell_type": "code",
      "metadata": {
        "id": "UuuifE4yVLU1"
      },
      "source": [
        "model.compile(loss='categorical_crossentropy',optimizer=OPTIMIZER, metrics = ['accuracy'])"
      ],
      "execution_count": null,
      "outputs": []
    },
    {
      "cell_type": "code",
      "metadata": {
        "id": "deqP0dGYVLSj"
      },
      "source": [
        "callbacks = [tf.keras.callbacks.TensorBoard('mnist_LeNet', write_images=True)]"
      ],
      "execution_count": null,
      "outputs": []
    },
    {
      "cell_type": "code",
      "metadata": {
        "colab": {
          "base_uri": "https://localhost:8080/"
        },
        "id": "ak0RpXCzVLQf",
        "outputId": "332a46c3-1e5d-49bf-a567-8ddb08f79ba2"
      },
      "source": [
        "history = model.fit(x=X_train, y = y_train, batch_size=BATCH_SIZE,epochs = EPOCHS, callbacks= callbacks, validation_split=VALIDATION_SPLIT, verbose = VERBOSE)"
      ],
      "execution_count": null,
      "outputs": [
        {
          "output_type": "stream",
          "text": [
            "Epoch 1/5\n",
            "  1/375 [..............................] - ETA: 0s - loss: 2.2858 - accuracy: 0.0781WARNING:tensorflow:From /usr/local/lib/python3.6/dist-packages/tensorflow/python/ops/summary_ops_v2.py:1277: stop (from tensorflow.python.eager.profiler) is deprecated and will be removed after 2020-07-01.\n",
            "Instructions for updating:\n",
            "use `tf.profiler.experimental.stop` instead.\n",
            "375/375 [==============================] - 38s 101ms/step - loss: 0.2101 - accuracy: 0.9365 - val_loss: 0.0675 - val_accuracy: 0.9801\n",
            "Epoch 2/5\n",
            "375/375 [==============================] - 41s 110ms/step - loss: 0.0549 - accuracy: 0.9831 - val_loss: 0.0466 - val_accuracy: 0.9869\n",
            "Epoch 3/5\n",
            "375/375 [==============================] - 38s 100ms/step - loss: 0.0366 - accuracy: 0.9881 - val_loss: 0.0395 - val_accuracy: 0.9878\n",
            "Epoch 4/5\n",
            "375/375 [==============================] - 38s 100ms/step - loss: 0.0265 - accuracy: 0.9916 - val_loss: 0.0404 - val_accuracy: 0.9887\n",
            "Epoch 5/5\n",
            "375/375 [==============================] - 38s 100ms/step - loss: 0.0200 - accuracy: 0.9937 - val_loss: 0.0420 - val_accuracy: 0.9887\n"
          ],
          "name": "stdout"
        }
      ]
    },
    {
      "cell_type": "code",
      "metadata": {
        "colab": {
          "base_uri": "https://localhost:8080/"
        },
        "id": "D_hhm7iTVLOg",
        "outputId": "7af214b9-260e-46aa-8a17-0f492e8d2b7b"
      },
      "source": [
        "score = model.evaluate(X_test,y_test)"
      ],
      "execution_count": null,
      "outputs": [
        {
          "output_type": "stream",
          "text": [
            "313/313 [==============================] - 3s 9ms/step - loss: 0.0317 - accuracy: 0.9906\n"
          ],
          "name": "stdout"
        }
      ]
    },
    {
      "cell_type": "code",
      "metadata": {
        "colab": {
          "base_uri": "https://localhost:8080/"
        },
        "id": "xy2MxvQBVLMZ",
        "outputId": "cff3de38-7116-40af-c660-18d9a6c2b49e"
      },
      "source": [
        "print(f'loss : {score[0]}, accuracy : {score[1]}')"
      ],
      "execution_count": null,
      "outputs": [
        {
          "output_type": "stream",
          "text": [
            "loss : 0.031740933656692505, accuracy : 0.9905999898910522\n"
          ],
          "name": "stdout"
        }
      ]
    },
    {
      "cell_type": "code",
      "metadata": {
        "id": "9hx1BQ8dVLKs"
      },
      "source": [
        "# %reload_ext tensorboard\n",
        "\n",
        "%tensorboard --logdir mnist_LeNet/train"
      ],
      "execution_count": null,
      "outputs": []
    },
    {
      "cell_type": "code",
      "metadata": {
        "id": "TCKGvAXJVLIN"
      },
      "source": [
        ""
      ],
      "execution_count": null,
      "outputs": []
    },
    {
      "cell_type": "code",
      "metadata": {
        "id": "hlKA3WGVVLE3"
      },
      "source": [
        ""
      ],
      "execution_count": null,
      "outputs": []
    },
    {
      "cell_type": "code",
      "metadata": {
        "id": "rWcAs_RqVK_a"
      },
      "source": [
        ""
      ],
      "execution_count": null,
      "outputs": []
    }
  ]
}