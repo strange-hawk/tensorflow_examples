{
  "nbformat": 4,
  "nbformat_minor": 0,
  "metadata": {
    "colab": {
      "name": "classification_with_tensorflow.ipynb",
      "provenance": [],
      "authorship_tag": "ABX9TyNabpW+MdSYKk9rsAPCpvbe",
      "include_colab_link": true
    },
    "kernelspec": {
      "name": "python3",
      "display_name": "Python 3"
    }
  },
  "cells": [
    {
      "cell_type": "markdown",
      "metadata": {
        "id": "view-in-github",
        "colab_type": "text"
      },
      "source": [
        "<a href=\"https://colab.research.google.com/github/strange-hawk/tensorflow_examples/blob/main/classification_with_tensorflow.ipynb\" target=\"_parent\"><img src=\"https://colab.research.google.com/assets/colab-badge.svg\" alt=\"Open In Colab\"/></a>"
      ]
    },
    {
      "cell_type": "code",
      "metadata": {
        "id": "icRrspsRB12W"
      },
      "source": [
        "import tensorflow as tf\n",
        "from tensorflow import keras\n",
        "import numpy as np\n",
        "import matplotlib.pyplot as plt"
      ],
      "execution_count": 1,
      "outputs": []
    },
    {
      "cell_type": "code",
      "metadata": {
        "id": "dFuqVKCCB5J1"
      },
      "source": [
        "((train_data, train_labels),(eval_data, eval_labels)) = tf.keras.datasets.mnist.load_data()"
      ],
      "execution_count": 75,
      "outputs": []
    },
    {
      "cell_type": "code",
      "metadata": {
        "id": "gyVoXifnB5H8"
      },
      "source": [
        "train_data = np.float32(train_data/255)\n",
        "eval_data = np.float32(eval_data/255.0)\n",
        "train_labels = train_labels.astype(np.int32)\n",
        "eval_labels = eval_labels.astype(np.int32)"
      ],
      "execution_count": 76,
      "outputs": []
    },
    {
      "cell_type": "code",
      "metadata": {
        "colab": {
          "base_uri": "https://localhost:8080/"
        },
        "id": "5urooRAqB5GT",
        "outputId": "85363d77-7d4b-42ec-c915-99a6db92f881"
      },
      "source": [
        "train_data[0,5]"
      ],
      "execution_count": 77,
      "outputs": [
        {
          "output_type": "execute_result",
          "data": {
            "text/plain": [
              "array([0.        , 0.        , 0.        , 0.        , 0.        ,\n",
              "       0.        , 0.        , 0.        , 0.        , 0.        ,\n",
              "       0.        , 0.        , 0.01176471, 0.07058824, 0.07058824,\n",
              "       0.07058824, 0.49411765, 0.53333336, 0.6862745 , 0.10196079,\n",
              "       0.6509804 , 1.        , 0.96862745, 0.49803922, 0.        ,\n",
              "       0.        , 0.        , 0.        ], dtype=float32)"
            ]
          },
          "metadata": {
            "tags": []
          },
          "execution_count": 77
        }
      ]
    },
    {
      "cell_type": "code",
      "metadata": {
        "id": "EMAPo8FQB5ES"
      },
      "source": [
        "feature_col = [tf.feature_column.numeric_column('x',shape=(28,28))]"
      ],
      "execution_count": 78,
      "outputs": []
    },
    {
      "cell_type": "code",
      "metadata": {
        "colab": {
          "base_uri": "https://localhost:8080/"
        },
        "id": "FYl_LoXdB5CB",
        "outputId": "9d68f087-9a23-499c-c608-0909d1e2fd65"
      },
      "source": [
        "classifier = tf.estimator.LinearClassifier(feature_columns=feature_col, n_classes=10,model_dir='mnist_dir/')"
      ],
      "execution_count": 79,
      "outputs": [
        {
          "output_type": "stream",
          "text": [
            "INFO:tensorflow:Using default config.\n",
            "INFO:tensorflow:Using config: {'_model_dir': 'mnist_dir/', '_tf_random_seed': None, '_save_summary_steps': 100, '_save_checkpoints_steps': None, '_save_checkpoints_secs': 600, '_session_config': allow_soft_placement: true\n",
            "graph_options {\n",
            "  rewrite_options {\n",
            "    meta_optimizer_iterations: ONE\n",
            "  }\n",
            "}\n",
            ", '_keep_checkpoint_max': 5, '_keep_checkpoint_every_n_hours': 10000, '_log_step_count_steps': 100, '_train_distribute': None, '_device_fn': None, '_protocol': None, '_eval_distribute': None, '_experimental_distribute': None, '_experimental_max_worker_delay_secs': None, '_session_creation_timeout_secs': 7200, '_service': None, '_cluster_spec': ClusterSpec({}), '_task_type': 'worker', '_task_id': 0, '_global_id_in_cluster': 0, '_master': '', '_evaluation_master': '', '_is_chief': True, '_num_ps_replicas': 0, '_num_worker_replicas': 1}\n"
          ],
          "name": "stdout"
        }
      ]
    },
    {
      "cell_type": "code",
      "metadata": {
        "id": "2gLjmNeqB4_r"
      },
      "source": [
        "def train_input_func(x = {'x': train_data}, y = train_labels, batch_size = 100, epochs = None, shuffle= True):\n",
        "  def input_func():\n",
        "    dataset = tf.data.Dataset.from_tensor_slices((x,y))\n",
        "    if shuffle:\n",
        "      dataset = dataset.shuffle(100)\n",
        "    dataset = dataset.batch(batch_size).repeat(epochs)\n",
        "    return dataset\n",
        "  return input_func"
      ],
      "execution_count": 80,
      "outputs": []
    },
    {
      "cell_type": "code",
      "metadata": {
        "colab": {
          "base_uri": "https://localhost:8080/"
        },
        "id": "0n0L24wOB487",
        "outputId": "95cc1dd1-09b8-49b4-fa29-82aa11ab3960"
      },
      "source": [
        "train_input_func_helper = train_input_func()\n",
        "classifier.train(input_fn=train_input_func_helper, steps = 10)"
      ],
      "execution_count": 81,
      "outputs": [
        {
          "output_type": "stream",
          "text": [
            "INFO:tensorflow:Calling model_fn.\n",
            "INFO:tensorflow:Done calling model_fn.\n",
            "INFO:tensorflow:Create CheckpointSaverHook.\n",
            "INFO:tensorflow:Graph was finalized.\n",
            "INFO:tensorflow:Restoring parameters from mnist_dir/model.ckpt-6030\n",
            "INFO:tensorflow:Running local_init_op.\n",
            "INFO:tensorflow:Done running local_init_op.\n",
            "INFO:tensorflow:Calling checkpoint listeners before saving checkpoint 6030...\n",
            "INFO:tensorflow:Saving checkpoints for 6030 into mnist_dir/model.ckpt.\n",
            "INFO:tensorflow:Calling checkpoint listeners after saving checkpoint 6030...\n",
            "INFO:tensorflow:loss = 0.76502264, step = 6030\n",
            "INFO:tensorflow:Calling checkpoint listeners before saving checkpoint 6040...\n",
            "INFO:tensorflow:Saving checkpoints for 6040 into mnist_dir/model.ckpt.\n",
            "WARNING:tensorflow:From /usr/local/lib/python3.6/dist-packages/tensorflow/python/training/saver.py:971: remove_checkpoint (from tensorflow.python.training.checkpoint_management) is deprecated and will be removed in a future version.\n",
            "Instructions for updating:\n",
            "Use standard file APIs to delete files with this prefix.\n",
            "INFO:tensorflow:Calling checkpoint listeners after saving checkpoint 6040...\n",
            "INFO:tensorflow:Loss for final step: 0.764532.\n"
          ],
          "name": "stdout"
        },
        {
          "output_type": "execute_result",
          "data": {
            "text/plain": [
              "<tensorflow_estimator.python.estimator.canned.linear.LinearClassifierV2 at 0x7ff040d84b70>"
            ]
          },
          "metadata": {
            "tags": []
          },
          "execution_count": 81
        }
      ]
    },
    {
      "cell_type": "code",
      "metadata": {
        "colab": {
          "base_uri": "https://localhost:8080/"
        },
        "id": "MgLkpjEfB47S",
        "outputId": "148a055c-bdb9-4685-b407-2d7ecfe02192"
      },
      "source": [
        "val_input_func_helper = train_input_func(x = {'x':eval_data}, y = eval_labels, batch_size = 32, epochs = 1, shuffle = False)\n",
        "t= classifier.evaluate(val_input_func_helper)"
      ],
      "execution_count": 82,
      "outputs": [
        {
          "output_type": "stream",
          "text": [
            "INFO:tensorflow:Calling model_fn.\n",
            "INFO:tensorflow:Done calling model_fn.\n",
            "INFO:tensorflow:Starting evaluation at 2020-12-09T16:02:19Z\n",
            "INFO:tensorflow:Graph was finalized.\n",
            "INFO:tensorflow:Restoring parameters from mnist_dir/model.ckpt-6040\n",
            "INFO:tensorflow:Running local_init_op.\n",
            "INFO:tensorflow:Done running local_init_op.\n",
            "INFO:tensorflow:Inference Time : 0.49965s\n",
            "INFO:tensorflow:Finished evaluation at 2020-12-09-16:02:19\n",
            "INFO:tensorflow:Saving dict for global step 6040: accuracy = 0.8533, average_loss = 0.66483897, global_step = 6040, loss = 0.6641175\n",
            "INFO:tensorflow:Saving 'checkpoint_path' summary for global step 6040: mnist_dir/model.ckpt-6040\n"
          ],
          "name": "stdout"
        }
      ]
    },
    {
      "cell_type": "code",
      "metadata": {
        "id": "aJOBs6fXB44z"
      },
      "source": [
        "train_input_fn = tf.compat.v1.estimator.inputs.numpy_input_fn( x={\"x\": train_data}, y=train_labels, batch_size=100, num_epochs=None, shuffle=True)"
      ],
      "execution_count": 71,
      "outputs": []
    },
    {
      "cell_type": "code",
      "metadata": {
        "colab": {
          "base_uri": "https://localhost:8080/"
        },
        "id": "WTmfjGX4B421",
        "outputId": "2842c6cf-6d1a-4de5-97e0-ce8bf6bf9ba6"
      },
      "source": [
        "classifier.train(input_fn=train_input_fn, steps=130)"
      ],
      "execution_count": 86,
      "outputs": [
        {
          "output_type": "stream",
          "text": [
            "INFO:tensorflow:Calling model_fn.\n",
            "INFO:tensorflow:Done calling model_fn.\n",
            "INFO:tensorflow:Create CheckpointSaverHook.\n",
            "INFO:tensorflow:Graph was finalized.\n",
            "INFO:tensorflow:Restoring parameters from mnist_dir/model.ckpt-6040\n",
            "INFO:tensorflow:Running local_init_op.\n",
            "INFO:tensorflow:Done running local_init_op.\n",
            "INFO:tensorflow:Calling checkpoint listeners before saving checkpoint 6040...\n",
            "INFO:tensorflow:Saving checkpoints for 6040 into mnist_dir/model.ckpt.\n",
            "INFO:tensorflow:Calling checkpoint listeners after saving checkpoint 6040...\n",
            "INFO:tensorflow:loss = 0.9905959, step = 6040\n",
            "INFO:tensorflow:global_step/sec: 439.317\n",
            "INFO:tensorflow:loss = 0.4542122, step = 6140 (0.229 sec)\n",
            "INFO:tensorflow:Calling checkpoint listeners before saving checkpoint 6170...\n",
            "INFO:tensorflow:Saving checkpoints for 6170 into mnist_dir/model.ckpt.\n",
            "INFO:tensorflow:Calling checkpoint listeners after saving checkpoint 6170...\n",
            "INFO:tensorflow:Loss for final step: 0.0979833.\n"
          ],
          "name": "stdout"
        },
        {
          "output_type": "execute_result",
          "data": {
            "text/plain": [
              "<tensorflow_estimator.python.estimator.canned.linear.LinearClassifierV2 at 0x7ff040d84b70>"
            ]
          },
          "metadata": {
            "tags": []
          },
          "execution_count": 86
        }
      ]
    },
    {
      "cell_type": "code",
      "metadata": {
        "id": "zHI9uvFXB41F"
      },
      "source": [
        "val_input_fn = tf.compat.v1.estimator.inputs.numpy_input_fn( x={\"x\": eval_data}, y=eval_labels, num_epochs=1, shuffle=False)"
      ],
      "execution_count": 73,
      "outputs": []
    },
    {
      "cell_type": "code",
      "metadata": {
        "colab": {
          "base_uri": "https://localhost:8080/"
        },
        "id": "BMHl_6zlB4zU",
        "outputId": "8ab9ac61-9c75-423b-d718-4dbdfbe3e7d4"
      },
      "source": [
        "eval_results = classifier.evaluate(input_fn=val_input_fn) \n",
        "print(eval_results)"
      ],
      "execution_count": 87,
      "outputs": [
        {
          "output_type": "stream",
          "text": [
            "INFO:tensorflow:Calling model_fn.\n",
            "INFO:tensorflow:Done calling model_fn.\n",
            "INFO:tensorflow:Starting evaluation at 2020-12-09T16:04:02Z\n",
            "INFO:tensorflow:Graph was finalized.\n",
            "INFO:tensorflow:Restoring parameters from mnist_dir/model.ckpt-6170\n",
            "INFO:tensorflow:Running local_init_op.\n",
            "INFO:tensorflow:Done running local_init_op.\n",
            "INFO:tensorflow:Inference Time : 0.28470s\n",
            "INFO:tensorflow:Finished evaluation at 2020-12-09-16:04:02\n",
            "INFO:tensorflow:Saving dict for global step 6170: accuracy = 0.8941, average_loss = 0.41710865, global_step = 6170, loss = 0.4141445\n",
            "INFO:tensorflow:Saving 'checkpoint_path' summary for global step 6170: mnist_dir/model.ckpt-6170\n",
            "{'accuracy': 0.8941, 'average_loss': 0.41710865, 'loss': 0.4141445, 'global_step': 6170}\n"
          ],
          "name": "stdout"
        }
      ]
    },
    {
      "cell_type": "code",
      "metadata": {
        "id": "ufGrLCgaB4xo"
      },
      "source": [
        "((train_data, train_labels),(eval_data, eval_labels)) = tf.keras.datasets.mnist.load_data()"
      ],
      "execution_count": 57,
      "outputs": []
    },
    {
      "cell_type": "code",
      "metadata": {
        "colab": {
          "base_uri": "https://localhost:8080/"
        },
        "id": "UsS-lQOJB4vn",
        "outputId": "6d4fcd33-94ee-45bc-c6d6-c4ca1761d131"
      },
      "source": [
        "np.float32(train_data[0,5]/255)"
      ],
      "execution_count": 62,
      "outputs": [
        {
          "output_type": "execute_result",
          "data": {
            "text/plain": [
              "array([0.        , 0.        , 0.        , 0.        , 0.        ,\n",
              "       0.        , 0.        , 0.        , 0.        , 0.        ,\n",
              "       0.        , 0.        , 0.01176471, 0.07058824, 0.07058824,\n",
              "       0.07058824, 0.49411765, 0.53333336, 0.6862745 , 0.10196079,\n",
              "       0.6509804 , 1.        , 0.96862745, 0.49803922, 0.        ,\n",
              "       0.        , 0.        , 0.        ], dtype=float32)"
            ]
          },
          "metadata": {
            "tags": []
          },
          "execution_count": 62
        }
      ]
    },
    {
      "cell_type": "code",
      "metadata": {
        "colab": {
          "base_uri": "https://localhost:8080/"
        },
        "id": "wAYjrPWvB4tm",
        "outputId": "81d5ef5b-211b-4976-d945-f29591247f5e"
      },
      "source": [
        "m = classifier.evaluate(val_input_func_helper)"
      ],
      "execution_count": 88,
      "outputs": [
        {
          "output_type": "stream",
          "text": [
            "INFO:tensorflow:Calling model_fn.\n",
            "INFO:tensorflow:Done calling model_fn.\n",
            "INFO:tensorflow:Starting evaluation at 2020-12-09T16:04:10Z\n",
            "INFO:tensorflow:Graph was finalized.\n",
            "INFO:tensorflow:Restoring parameters from mnist_dir/model.ckpt-6170\n",
            "INFO:tensorflow:Running local_init_op.\n",
            "INFO:tensorflow:Done running local_init_op.\n",
            "INFO:tensorflow:Inference Time : 0.48502s\n",
            "INFO:tensorflow:Finished evaluation at 2020-12-09-16:04:10\n",
            "INFO:tensorflow:Saving dict for global step 6170: accuracy = 0.8941, average_loss = 0.41710877, global_step = 6170, loss = 0.41668132\n",
            "INFO:tensorflow:Saving 'checkpoint_path' summary for global step 6170: mnist_dir/model.ckpt-6170\n"
          ],
          "name": "stdout"
        }
      ]
    },
    {
      "cell_type": "code",
      "metadata": {
        "colab": {
          "base_uri": "https://localhost:8080/"
        },
        "id": "IULVLL-nB4rS",
        "outputId": "29bd2a10-35a3-4719-ce93-a7fe2f78df22"
      },
      "source": [
        "print(m['accuracy'])"
      ],
      "execution_count": 89,
      "outputs": [
        {
          "output_type": "stream",
          "text": [
            "0.8941\n"
          ],
          "name": "stdout"
        }
      ]
    },
    {
      "cell_type": "code",
      "metadata": {
        "id": "jPskxXI0B4ot"
      },
      "source": [
        ""
      ],
      "execution_count": null,
      "outputs": []
    },
    {
      "cell_type": "code",
      "metadata": {
        "id": "ajMr6FRUB4mC"
      },
      "source": [
        ""
      ],
      "execution_count": null,
      "outputs": []
    },
    {
      "cell_type": "code",
      "metadata": {
        "id": "FzfiXmY5B4jt"
      },
      "source": [
        ""
      ],
      "execution_count": null,
      "outputs": []
    },
    {
      "cell_type": "code",
      "metadata": {
        "id": "tfWN1dHDB4hE"
      },
      "source": [
        ""
      ],
      "execution_count": null,
      "outputs": []
    },
    {
      "cell_type": "code",
      "metadata": {
        "id": "hzwYOnDiB4en"
      },
      "source": [
        ""
      ],
      "execution_count": null,
      "outputs": []
    },
    {
      "cell_type": "code",
      "metadata": {
        "id": "Laq5n0l4B4b_"
      },
      "source": [
        ""
      ],
      "execution_count": null,
      "outputs": []
    },
    {
      "cell_type": "code",
      "metadata": {
        "id": "xlxgJLieB4ZX"
      },
      "source": [
        ""
      ],
      "execution_count": null,
      "outputs": []
    },
    {
      "cell_type": "code",
      "metadata": {
        "id": "9o079q2qB4Wz"
      },
      "source": [
        ""
      ],
      "execution_count": null,
      "outputs": []
    },
    {
      "cell_type": "code",
      "metadata": {
        "id": "EgjXmAmPB4Uc"
      },
      "source": [
        ""
      ],
      "execution_count": null,
      "outputs": []
    },
    {
      "cell_type": "code",
      "metadata": {
        "id": "novwrY0UB4Ru"
      },
      "source": [
        ""
      ],
      "execution_count": null,
      "outputs": []
    },
    {
      "cell_type": "code",
      "metadata": {
        "id": "EbVSXE9qB4L2"
      },
      "source": [
        ""
      ],
      "execution_count": null,
      "outputs": []
    },
    {
      "cell_type": "code",
      "metadata": {
        "id": "iKmVS4mDB4JQ"
      },
      "source": [
        ""
      ],
      "execution_count": null,
      "outputs": []
    },
    {
      "cell_type": "code",
      "metadata": {
        "id": "z2zMuxJbB4G0"
      },
      "source": [
        ""
      ],
      "execution_count": null,
      "outputs": []
    },
    {
      "cell_type": "code",
      "metadata": {
        "id": "SnV0NZ3kB4Dx"
      },
      "source": [
        ""
      ],
      "execution_count": null,
      "outputs": []
    }
  ]
}