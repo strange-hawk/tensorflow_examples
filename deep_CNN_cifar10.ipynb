{
  "nbformat": 4,
  "nbformat_minor": 0,
  "metadata": {
    "colab": {
      "name": "deep_CNN_cifar10.ipynb",
      "provenance": [],
      "authorship_tag": "ABX9TyO5w/6fmLAHTgE85Q0z/sZ/",
      "include_colab_link": true
    },
    "kernelspec": {
      "name": "python3",
      "display_name": "Python 3"
    },
    "accelerator": "GPU"
  },
  "cells": [
    {
      "cell_type": "markdown",
      "metadata": {
        "id": "view-in-github",
        "colab_type": "text"
      },
      "source": [
        "<a href=\"https://colab.research.google.com/github/strange-hawk/tensorflow_examples/blob/main/deep_CNN_cifar10.ipynb\" target=\"_parent\"><img src=\"https://colab.research.google.com/assets/colab-badge.svg\" alt=\"Open In Colab\"/></a>"
      ]
    },
    {
      "cell_type": "code",
      "metadata": {
        "id": "wPwlO7I5l4mb"
      },
      "source": [
        "import tensorflow as tf\n",
        "import pandas as pd\n",
        "import numpy as np\n",
        "import matplotlib.pyplot as plt\n",
        "from tensorflow import keras as keras\n",
        "from tensorflow.keras import datasets, layers, models, optimizers\n",
        "from tensorflow.keras.preprocessing.image import ImageDataGenerator"
      ],
      "execution_count": 1,
      "outputs": []
    },
    {
      "cell_type": "code",
      "metadata": {
        "id": "mAo8UjNTl90M"
      },
      "source": [
        "EPOCHS=50 \n",
        "NUM_CLASSES = 10"
      ],
      "execution_count": 2,
      "outputs": []
    },
    {
      "cell_type": "code",
      "metadata": {
        "id": "hdsLXNkJl9yH"
      },
      "source": [
        "def load_data():\n",
        "  (x_train, y_train), (x_test, y_test) = datasets.cifar10.load_data()\n",
        "  x_train = np.float32(x_train)\n",
        "  x_test = np.float32(x_test)\n",
        "  mean = np.mean(x_train,axis=(0,1,2,3)) \n",
        "  std = np.std(x_train,axis=(0,1,2,3)) \n",
        "  x_train = (x_train-mean)/(std+1e-7) \n",
        "  x_test = (x_test-mean)/(std+1e-7)\n",
        "\n",
        "  y_train = tf.keras.utils.to_categorical(y_train,NUM_CLASSES) \n",
        "  y_test = tf.keras.utils.to_categorical(y_test,NUM_CLASSES)\n",
        "\n",
        "  return x_train, y_train, x_test, y_test"
      ],
      "execution_count": 3,
      "outputs": []
    },
    {
      "cell_type": "code",
      "metadata": {
        "colab": {
          "base_uri": "https://localhost:8080/"
        },
        "id": "gITLwudBl9wh",
        "outputId": "9dbc9b6c-53e7-4cea-f8d4-8da241ab9c6a"
      },
      "source": [
        "(x_train, y_train, x_test, y_test) = load_data()"
      ],
      "execution_count": 4,
      "outputs": [
        {
          "output_type": "stream",
          "text": [
            "Downloading data from https://www.cs.toronto.edu/~kriz/cifar-10-python.tar.gz\n",
            "170500096/170498071 [==============================] - 4s 0us/step\n"
          ],
          "name": "stdout"
        }
      ]
    },
    {
      "cell_type": "code",
      "metadata": {
        "id": "KIVaYmGcl9od"
      },
      "source": [
        "def build_model():\n",
        "  model = models.Sequential()\n",
        "  model.add(layers.Conv2D(32, (3,3), padding='same', input_shape=x_train.shape[1:], activation='relu')) \n",
        "  model.add(layers.BatchNormalization()) \n",
        "  model.add(layers.Conv2D(32, (3,3), padding='same', activation='relu')) \n",
        "  model.add(layers.BatchNormalization()) \n",
        "  model.add(layers.MaxPooling2D(pool_size=(2,2))) \n",
        "  model.add(layers.Dropout(0.2))\n",
        "\n",
        "  model.add(layers.Conv2D(64, (3,3), padding='same', activation='relu'))\n",
        "  model.add(layers.BatchNormalization())\n",
        "  model.add(layers.Conv2D(64, (3,3), padding='same', activation='relu'))\n",
        "  model.add(layers.BatchNormalization()) \n",
        "  model.add(layers.MaxPooling2D(pool_size=(2,2))) \n",
        "  model.add(layers.Dropout(0.3))\n",
        "\n",
        "  model.add(layers.Conv2D(128, (3,3), padding='same', activation='relu'))\n",
        "  model.add(layers.BatchNormalization())\n",
        "  model.add(layers.Conv2D(128, (3,3), padding='same', activation='relu'))\n",
        "  model.add(layers.BatchNormalization()) \n",
        "  model.add(layers.MaxPooling2D(pool_size=(2,2))) \n",
        "  model.add(layers.Dropout(0.4))\n",
        "\n",
        "  model.add(layers.Flatten()) \n",
        "  model.add(layers.Dense(10, activation='softmax')) \n",
        "  \n",
        "  return model\n"
      ],
      "execution_count": 5,
      "outputs": []
    },
    {
      "cell_type": "code",
      "metadata": {
        "id": "9uzcH4xCl9mw"
      },
      "source": [
        "model = build_model()"
      ],
      "execution_count": 6,
      "outputs": []
    },
    {
      "cell_type": "code",
      "metadata": {
        "colab": {
          "base_uri": "https://localhost:8080/"
        },
        "id": "Z7hm7gDnl9kt",
        "outputId": "ee7dcd5a-dcc2-40e9-f8db-7bff95340859"
      },
      "source": [
        "model.summary()"
      ],
      "execution_count": 7,
      "outputs": [
        {
          "output_type": "stream",
          "text": [
            "Model: \"sequential\"\n",
            "_________________________________________________________________\n",
            "Layer (type)                 Output Shape              Param #   \n",
            "=================================================================\n",
            "conv2d (Conv2D)              (None, 32, 32, 32)        896       \n",
            "_________________________________________________________________\n",
            "batch_normalization (BatchNo (None, 32, 32, 32)        128       \n",
            "_________________________________________________________________\n",
            "conv2d_1 (Conv2D)            (None, 32, 32, 32)        9248      \n",
            "_________________________________________________________________\n",
            "batch_normalization_1 (Batch (None, 32, 32, 32)        128       \n",
            "_________________________________________________________________\n",
            "max_pooling2d (MaxPooling2D) (None, 16, 16, 32)        0         \n",
            "_________________________________________________________________\n",
            "dropout (Dropout)            (None, 16, 16, 32)        0         \n",
            "_________________________________________________________________\n",
            "conv2d_2 (Conv2D)            (None, 16, 16, 64)        18496     \n",
            "_________________________________________________________________\n",
            "batch_normalization_2 (Batch (None, 16, 16, 64)        256       \n",
            "_________________________________________________________________\n",
            "conv2d_3 (Conv2D)            (None, 16, 16, 64)        36928     \n",
            "_________________________________________________________________\n",
            "batch_normalization_3 (Batch (None, 16, 16, 64)        256       \n",
            "_________________________________________________________________\n",
            "max_pooling2d_1 (MaxPooling2 (None, 8, 8, 64)          0         \n",
            "_________________________________________________________________\n",
            "dropout_1 (Dropout)          (None, 8, 8, 64)          0         \n",
            "_________________________________________________________________\n",
            "conv2d_4 (Conv2D)            (None, 8, 8, 128)         73856     \n",
            "_________________________________________________________________\n",
            "batch_normalization_4 (Batch (None, 8, 8, 128)         512       \n",
            "_________________________________________________________________\n",
            "conv2d_5 (Conv2D)            (None, 8, 8, 128)         147584    \n",
            "_________________________________________________________________\n",
            "batch_normalization_5 (Batch (None, 8, 8, 128)         512       \n",
            "_________________________________________________________________\n",
            "max_pooling2d_2 (MaxPooling2 (None, 4, 4, 128)         0         \n",
            "_________________________________________________________________\n",
            "dropout_2 (Dropout)          (None, 4, 4, 128)         0         \n",
            "_________________________________________________________________\n",
            "flatten (Flatten)            (None, 2048)              0         \n",
            "_________________________________________________________________\n",
            "dense (Dense)                (None, 10)                20490     \n",
            "=================================================================\n",
            "Total params: 309,290\n",
            "Trainable params: 308,394\n",
            "Non-trainable params: 896\n",
            "_________________________________________________________________\n"
          ],
          "name": "stdout"
        }
      ]
    },
    {
      "cell_type": "code",
      "metadata": {
        "id": "BWoYq97El9im"
      },
      "source": [
        "model.compile(loss='categorical_crossentropy', optimizer='RMSprop', metrics=['accuracy'])"
      ],
      "execution_count": 8,
      "outputs": []
    },
    {
      "cell_type": "code",
      "metadata": {
        "colab": {
          "base_uri": "https://localhost:8080/"
        },
        "id": "Kt65EBhjl9ga",
        "outputId": "415a1ce5-9d90-4abe-d7a9-2a296b5bccf5"
      },
      "source": [
        "model.fit(x_train, y_train, batch_size=64, epochs=EPOCHS, validation_data=(x_test,y_test))"
      ],
      "execution_count": 9,
      "outputs": [
        {
          "output_type": "stream",
          "text": [
            "Epoch 1/50\n",
            "782/782 [==============================] - 7s 10ms/step - loss: 1.7301 - accuracy: 0.4804 - val_loss: 1.3055 - val_accuracy: 0.5910\n",
            "Epoch 2/50\n",
            "782/782 [==============================] - 7s 9ms/step - loss: 1.0569 - accuracy: 0.6531 - val_loss: 0.8472 - val_accuracy: 0.7166\n",
            "Epoch 3/50\n",
            "782/782 [==============================] - 7s 9ms/step - loss: 0.8348 - accuracy: 0.7200 - val_loss: 0.8780 - val_accuracy: 0.7104\n",
            "Epoch 4/50\n",
            "782/782 [==============================] - 7s 9ms/step - loss: 0.7176 - accuracy: 0.7546 - val_loss: 0.6815 - val_accuracy: 0.7701\n",
            "Epoch 5/50\n",
            "782/782 [==============================] - 7s 9ms/step - loss: 0.6404 - accuracy: 0.7814 - val_loss: 0.6903 - val_accuracy: 0.7716\n",
            "Epoch 6/50\n",
            "782/782 [==============================] - 7s 9ms/step - loss: 0.5833 - accuracy: 0.8009 - val_loss: 0.6514 - val_accuracy: 0.7812\n",
            "Epoch 7/50\n",
            "782/782 [==============================] - 7s 9ms/step - loss: 0.5360 - accuracy: 0.8161 - val_loss: 0.5612 - val_accuracy: 0.8125\n",
            "Epoch 8/50\n",
            "782/782 [==============================] - 7s 9ms/step - loss: 0.4989 - accuracy: 0.8288 - val_loss: 0.5218 - val_accuracy: 0.8236\n",
            "Epoch 9/50\n",
            "782/782 [==============================] - 7s 9ms/step - loss: 0.4663 - accuracy: 0.8370 - val_loss: 0.5324 - val_accuracy: 0.8220\n",
            "Epoch 10/50\n",
            "782/782 [==============================] - 7s 9ms/step - loss: 0.4430 - accuracy: 0.8467 - val_loss: 0.6541 - val_accuracy: 0.7874\n",
            "Epoch 11/50\n",
            "782/782 [==============================] - 7s 10ms/step - loss: 0.4202 - accuracy: 0.8537 - val_loss: 0.4979 - val_accuracy: 0.8393\n",
            "Epoch 12/50\n",
            "782/782 [==============================] - 8s 10ms/step - loss: 0.3987 - accuracy: 0.8615 - val_loss: 0.5335 - val_accuracy: 0.8281\n",
            "Epoch 13/50\n",
            "782/782 [==============================] - 7s 9ms/step - loss: 0.3752 - accuracy: 0.8693 - val_loss: 0.5526 - val_accuracy: 0.8240\n",
            "Epoch 14/50\n",
            "782/782 [==============================] - 7s 9ms/step - loss: 0.3561 - accuracy: 0.8751 - val_loss: 0.5154 - val_accuracy: 0.8378\n",
            "Epoch 15/50\n",
            "782/782 [==============================] - 7s 9ms/step - loss: 0.3443 - accuracy: 0.8789 - val_loss: 0.5092 - val_accuracy: 0.8358\n",
            "Epoch 16/50\n",
            "782/782 [==============================] - 7s 9ms/step - loss: 0.3341 - accuracy: 0.8821 - val_loss: 0.4665 - val_accuracy: 0.8508\n",
            "Epoch 17/50\n",
            "782/782 [==============================] - 7s 9ms/step - loss: 0.3178 - accuracy: 0.8888 - val_loss: 0.4908 - val_accuracy: 0.8432\n",
            "Epoch 18/50\n",
            "782/782 [==============================] - 7s 9ms/step - loss: 0.3077 - accuracy: 0.8905 - val_loss: 0.4685 - val_accuracy: 0.8479\n",
            "Epoch 19/50\n",
            "782/782 [==============================] - 7s 9ms/step - loss: 0.2935 - accuracy: 0.8957 - val_loss: 0.5045 - val_accuracy: 0.8443\n",
            "Epoch 20/50\n",
            "782/782 [==============================] - 7s 9ms/step - loss: 0.2841 - accuracy: 0.9002 - val_loss: 0.4619 - val_accuracy: 0.8491\n",
            "Epoch 21/50\n",
            "782/782 [==============================] - 7s 9ms/step - loss: 0.2729 - accuracy: 0.9027 - val_loss: 0.4755 - val_accuracy: 0.8526\n",
            "Epoch 22/50\n",
            "782/782 [==============================] - 7s 9ms/step - loss: 0.2708 - accuracy: 0.9042 - val_loss: 0.4801 - val_accuracy: 0.8506\n",
            "Epoch 23/50\n",
            "782/782 [==============================] - 7s 9ms/step - loss: 0.2602 - accuracy: 0.9074 - val_loss: 0.4790 - val_accuracy: 0.8517\n",
            "Epoch 24/50\n",
            "782/782 [==============================] - 7s 9ms/step - loss: 0.2550 - accuracy: 0.9098 - val_loss: 0.4831 - val_accuracy: 0.8492\n",
            "Epoch 25/50\n",
            "782/782 [==============================] - 7s 9ms/step - loss: 0.2472 - accuracy: 0.9116 - val_loss: 0.4520 - val_accuracy: 0.8594\n",
            "Epoch 26/50\n",
            "782/782 [==============================] - 7s 9ms/step - loss: 0.2394 - accuracy: 0.9154 - val_loss: 0.4719 - val_accuracy: 0.8607\n",
            "Epoch 27/50\n",
            "782/782 [==============================] - 7s 9ms/step - loss: 0.2365 - accuracy: 0.9171 - val_loss: 0.5213 - val_accuracy: 0.8438\n",
            "Epoch 28/50\n",
            "782/782 [==============================] - 7s 9ms/step - loss: 0.2215 - accuracy: 0.9205 - val_loss: 0.4649 - val_accuracy: 0.8576\n",
            "Epoch 29/50\n",
            "782/782 [==============================] - 7s 9ms/step - loss: 0.2228 - accuracy: 0.9206 - val_loss: 0.5021 - val_accuracy: 0.8518\n",
            "Epoch 30/50\n",
            "782/782 [==============================] - 7s 9ms/step - loss: 0.2173 - accuracy: 0.9224 - val_loss: 0.4741 - val_accuracy: 0.8537\n",
            "Epoch 31/50\n",
            "782/782 [==============================] - 7s 9ms/step - loss: 0.2098 - accuracy: 0.9250 - val_loss: 0.4802 - val_accuracy: 0.8583\n",
            "Epoch 32/50\n",
            "782/782 [==============================] - 7s 9ms/step - loss: 0.2073 - accuracy: 0.9248 - val_loss: 0.5666 - val_accuracy: 0.8389\n",
            "Epoch 33/50\n",
            "782/782 [==============================] - 7s 9ms/step - loss: 0.2080 - accuracy: 0.9256 - val_loss: 0.5098 - val_accuracy: 0.8560\n",
            "Epoch 34/50\n",
            "782/782 [==============================] - 7s 9ms/step - loss: 0.2035 - accuracy: 0.9270 - val_loss: 0.5081 - val_accuracy: 0.8514\n",
            "Epoch 35/50\n",
            "782/782 [==============================] - 7s 9ms/step - loss: 0.1953 - accuracy: 0.9300 - val_loss: 0.4957 - val_accuracy: 0.8588\n",
            "Epoch 36/50\n",
            "782/782 [==============================] - 7s 9ms/step - loss: 0.1937 - accuracy: 0.9303 - val_loss: 0.5503 - val_accuracy: 0.8456\n",
            "Epoch 37/50\n",
            "782/782 [==============================] - 7s 9ms/step - loss: 0.1907 - accuracy: 0.9315 - val_loss: 0.5011 - val_accuracy: 0.8584\n",
            "Epoch 38/50\n",
            "782/782 [==============================] - 7s 9ms/step - loss: 0.1891 - accuracy: 0.9331 - val_loss: 0.4976 - val_accuracy: 0.8595\n",
            "Epoch 39/50\n",
            "782/782 [==============================] - 7s 9ms/step - loss: 0.1853 - accuracy: 0.9341 - val_loss: 0.4766 - val_accuracy: 0.8634\n",
            "Epoch 40/50\n",
            "782/782 [==============================] - 7s 9ms/step - loss: 0.1811 - accuracy: 0.9349 - val_loss: 0.5095 - val_accuracy: 0.8566\n",
            "Epoch 41/50\n",
            "782/782 [==============================] - 7s 9ms/step - loss: 0.1783 - accuracy: 0.9359 - val_loss: 0.4748 - val_accuracy: 0.8635\n",
            "Epoch 42/50\n",
            "782/782 [==============================] - 7s 9ms/step - loss: 0.1744 - accuracy: 0.9382 - val_loss: 0.5063 - val_accuracy: 0.8575\n",
            "Epoch 43/50\n",
            "782/782 [==============================] - 7s 9ms/step - loss: 0.1729 - accuracy: 0.9385 - val_loss: 0.4767 - val_accuracy: 0.8619\n",
            "Epoch 44/50\n",
            "782/782 [==============================] - 7s 9ms/step - loss: 0.1677 - accuracy: 0.9395 - val_loss: 0.5388 - val_accuracy: 0.8576\n",
            "Epoch 45/50\n",
            "782/782 [==============================] - 7s 9ms/step - loss: 0.1661 - accuracy: 0.9402 - val_loss: 0.4877 - val_accuracy: 0.8639\n",
            "Epoch 46/50\n",
            "782/782 [==============================] - 7s 9ms/step - loss: 0.1621 - accuracy: 0.9406 - val_loss: 0.5024 - val_accuracy: 0.8648\n",
            "Epoch 47/50\n",
            "782/782 [==============================] - 7s 9ms/step - loss: 0.1634 - accuracy: 0.9410 - val_loss: 0.4973 - val_accuracy: 0.8663\n",
            "Epoch 48/50\n",
            "782/782 [==============================] - 7s 9ms/step - loss: 0.1618 - accuracy: 0.9435 - val_loss: 0.4784 - val_accuracy: 0.8651\n",
            "Epoch 49/50\n",
            "782/782 [==============================] - 7s 9ms/step - loss: 0.1589 - accuracy: 0.9420 - val_loss: 0.4932 - val_accuracy: 0.8654\n",
            "Epoch 50/50\n",
            "782/782 [==============================] - 7s 9ms/step - loss: 0.1604 - accuracy: 0.9423 - val_loss: 0.5093 - val_accuracy: 0.8638\n"
          ],
          "name": "stdout"
        },
        {
          "output_type": "execute_result",
          "data": {
            "text/plain": [
              "<tensorflow.python.keras.callbacks.History at 0x7f6d603356a0>"
            ]
          },
          "metadata": {
            "tags": []
          },
          "execution_count": 9
        }
      ]
    },
    {
      "cell_type": "code",
      "metadata": {
        "colab": {
          "base_uri": "https://localhost:8080/"
        },
        "id": "9sRNs_9Pl9ea",
        "outputId": "11a24301-1ba0-48f1-cd44-e5ae3d0b0e4b"
      },
      "source": [
        "model.evaluate(x_test, y_test, batch_size=64)"
      ],
      "execution_count": 10,
      "outputs": [
        {
          "output_type": "stream",
          "text": [
            "157/157 [==============================] - 1s 4ms/step - loss: 0.5093 - accuracy: 0.8638\n"
          ],
          "name": "stdout"
        },
        {
          "output_type": "execute_result",
          "data": {
            "text/plain": [
              "[0.5092526078224182, 0.8637999892234802]"
            ]
          },
          "metadata": {
            "tags": []
          },
          "execution_count": 10
        }
      ]
    },
    {
      "cell_type": "code",
      "metadata": {
        "id": "uegR52rWl9cH"
      },
      "source": [
        "datagen = ImageDataGenerator(rotation_range=30, width_shift_range=0.2, height_shift_range=0.2, horizontal_flip=True, zoom_range=0.2)\n",
        "datagen.fit(x_train)"
      ],
      "execution_count": 11,
      "outputs": []
    },
    {
      "cell_type": "code",
      "metadata": {
        "id": "dX55JDD1l9Z5"
      },
      "source": [
        "model.fit_generator(datagen.flow(x_train, y_train, batch_size=64), epochs=EPOCHS, verbose=1,validation_data=(x_test,y_test))"
      ],
      "execution_count": null,
      "outputs": []
    },
    {
      "cell_type": "code",
      "metadata": {
        "id": "RznKP-ssl9XL"
      },
      "source": [
        "model_json = model.to_json()"
      ],
      "execution_count": 15,
      "outputs": []
    },
    {
      "cell_type": "code",
      "metadata": {
        "id": "8OecIRkrl9VZ"
      },
      "source": [
        "with open('model.json','w') as json_file:\n",
        "  json_file.write(model_json)"
      ],
      "execution_count": 16,
      "outputs": []
    },
    {
      "cell_type": "code",
      "metadata": {
        "id": "Bn32HWK6l9TP"
      },
      "source": [
        "model.save_weights('model.h5')"
      ],
      "execution_count": 17,
      "outputs": []
    },
    {
      "cell_type": "code",
      "metadata": {
        "id": "ifhaoToul9RA"
      },
      "source": [
        ""
      ],
      "execution_count": null,
      "outputs": []
    },
    {
      "cell_type": "code",
      "metadata": {
        "id": "XYhcr4Asl9Pn"
      },
      "source": [
        ""
      ],
      "execution_count": null,
      "outputs": []
    },
    {
      "cell_type": "code",
      "metadata": {
        "id": "lAEZ3Ymil9Nv"
      },
      "source": [
        ""
      ],
      "execution_count": null,
      "outputs": []
    },
    {
      "cell_type": "code",
      "metadata": {
        "id": "rlOcokEDl9Lz"
      },
      "source": [
        ""
      ],
      "execution_count": null,
      "outputs": []
    },
    {
      "cell_type": "code",
      "metadata": {
        "id": "BE_9rUdRl9J4"
      },
      "source": [
        ""
      ],
      "execution_count": null,
      "outputs": []
    },
    {
      "cell_type": "code",
      "metadata": {
        "id": "uGYQG9yAl9Hq"
      },
      "source": [
        ""
      ],
      "execution_count": null,
      "outputs": []
    }
  ]
}